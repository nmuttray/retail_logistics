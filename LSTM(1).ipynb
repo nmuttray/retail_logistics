{
  "nbformat": 4,
  "nbformat_minor": 0,
  "metadata": {
    "colab": {
      "name": "LSTM.ipynb",
      "provenance": [],
      "collapsed_sections": []
    },
    "kernelspec": {
      "name": "python3",
      "display_name": "Python 3"
    }
  },
  "cells": [
    {
      "cell_type": "markdown",
      "metadata": {
        "id": "OqKSHp1DI4SJ"
      },
      "source": [
        "**Import dependencies**"
      ]
    },
    {
      "cell_type": "code",
      "metadata": {
        "id": "IIqMuyhT5RWj",
        "colab": {
          "base_uri": "https://localhost:8080/"
        },
        "outputId": "34d95f28-7820-4275-b458-a385419790a6"
      },
      "source": [
        "#!pip install git+https://github.com/ncullen93/torchsample"
      ],
      "execution_count": null,
      "outputs": [
        {
          "output_type": "stream",
          "text": [
            "Collecting git+https://github.com/ncullen93/torchsample\n",
            "  Cloning https://github.com/ncullen93/torchsample to /tmp/pip-req-build-ame2lkw7\n",
            "  Running command git clone -q https://github.com/ncullen93/torchsample /tmp/pip-req-build-ame2lkw7\n",
            "Requirement already satisfied (use --upgrade to upgrade): torchsample==0.1.3 from git+https://github.com/ncullen93/torchsample in /usr/local/lib/python3.6/dist-packages\n",
            "Building wheels for collected packages: torchsample\n",
            "  Building wheel for torchsample (setup.py) ... \u001b[?25l\u001b[?25hdone\n",
            "  Created wheel for torchsample: filename=torchsample-0.1.3-cp36-none-any.whl size=43417 sha256=0335c954fe49b8b66f6bd33b935eaca6805017200ce74affec726ab6eadd5822\n",
            "  Stored in directory: /tmp/pip-ephem-wheel-cache-a15xxkum/wheels/88/c7/72/14cd9a173eed1e29d0b17d866e7d9ee511d31a834aedd27489\n",
            "Successfully built torchsample\n"
          ],
          "name": "stdout"
        }
      ]
    },
    {
      "cell_type": "code",
      "metadata": {
        "id": "MHQctlFQIwFb"
      },
      "source": [
        "import os\n",
        "import fastprogress\n",
        "import time\n",
        "\n",
        "#import torchsample\n",
        "\n",
        "import pandas as pd\n",
        "import numpy as np\n",
        "import matplotlib.pyplot as plt\n",
        "import seaborn as sns\n",
        "\n",
        "import torch\n",
        "import torch.nn as nn\n",
        "import torch.optim as optim\n",
        "import torch.nn.functional as F\n",
        "import torchvision\n",
        "\n",
        "from torch.utils.data import DataLoader\n",
        "from sklearn.model_selection import TimeSeriesSplit"
      ],
      "execution_count": null,
      "outputs": []
    },
    {
      "cell_type": "markdown",
      "metadata": {
        "id": "d8P2mvjKHj_Y"
      },
      "source": [
        "\n",
        "**Import Dataset**\n",
        "\n"
      ]
    },
    {
      "cell_type": "code",
      "metadata": {
        "colab": {
          "resources": {
            "http://localhost:8080/nbextensions/google.colab/files.js": {
              "data": "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",
              "ok": true,
              "headers": [
                [
                  "content-type",
                  "application/javascript"
                ]
              ],
              "status": 200,
              "status_text": "OK"
            }
          },
          "base_uri": "https://localhost:8080/",
          "height": 70
        },
        "id": "Vmmh-CCAHhaq",
        "outputId": "4f59e2b5-de29-40c4-d518-ccfcd419abd2"
      },
      "source": [
        "## UPLOAD CSV-FILE HERE ##\n",
        "from google.colab import files\n",
        "uploaded = files.upload()"
      ],
      "execution_count": null,
      "outputs": [
        {
          "output_type": "display_data",
          "data": {
            "text/html": [
              "\n",
              "     <input type=\"file\" id=\"files-9de55d78-9c2f-4de5-a8f1-d271a54bca55\" name=\"files[]\" multiple disabled\n",
              "        style=\"border:none\" />\n",
              "     <output id=\"result-9de55d78-9c2f-4de5-a8f1-d271a54bca55\">\n",
              "      Upload widget is only available when the cell has been executed in the\n",
              "      current browser session. Please rerun this cell to enable.\n",
              "      </output>\n",
              "      <script src=\"/nbextensions/google.colab/files.js\"></script> "
            ],
            "text/plain": [
              "<IPython.core.display.HTML object>"
            ]
          },
          "metadata": {
            "tags": []
          }
        },
        {
          "output_type": "stream",
          "text": [
            "Saving data_by_week.csv to data_by_week.csv\n"
          ],
          "name": "stdout"
        }
      ]
    },
    {
      "cell_type": "code",
      "metadata": {
        "id": "w_an5HvAIarO"
      },
      "source": [
        "data = pd.read_csv('data_by_week.csv',sep = \";\")"
      ],
      "execution_count": null,
      "outputs": []
    },
    {
      "cell_type": "markdown",
      "metadata": {
        "id": "GIow9-D3KS3V"
      },
      "source": [
        "**Getting to know the data**"
      ]
    },
    {
      "cell_type": "code",
      "metadata": {
        "colab": {
          "base_uri": "https://localhost:8080/",
          "height": 224
        },
        "id": "6zLKl8L2KfMa",
        "outputId": "bf3bc2b3-468d-46ec-96c6-5347e40b6be8"
      },
      "source": [
        "display(data.head())\n",
        "display(data.shape)"
      ],
      "execution_count": null,
      "outputs": [
        {
          "output_type": "display_data",
          "data": {
            "text/html": [
              "<div>\n",
              "<style scoped>\n",
              "    .dataframe tbody tr th:only-of-type {\n",
              "        vertical-align: middle;\n",
              "    }\n",
              "\n",
              "    .dataframe tbody tr th {\n",
              "        vertical-align: top;\n",
              "    }\n",
              "\n",
              "    .dataframe thead th {\n",
              "        text-align: right;\n",
              "    }\n",
              "</style>\n",
              "<table border=\"1\" class=\"dataframe\">\n",
              "  <thead>\n",
              "    <tr style=\"text-align: right;\">\n",
              "      <th></th>\n",
              "      <th>Woche</th>\n",
              "      <th>TS</th>\n",
              "      <th>TK</th>\n",
              "      <th>OG</th>\n",
              "      <th>FD</th>\n",
              "      <th>FF</th>\n",
              "    </tr>\n",
              "  </thead>\n",
              "  <tbody>\n",
              "    <tr>\n",
              "      <th>0</th>\n",
              "      <td>02.01.12</td>\n",
              "      <td>461700</td>\n",
              "      <td>102878</td>\n",
              "      <td>187887</td>\n",
              "      <td>312672</td>\n",
              "      <td>24474</td>\n",
              "    </tr>\n",
              "    <tr>\n",
              "      <th>1</th>\n",
              "      <td>09.01.12</td>\n",
              "      <td>496850</td>\n",
              "      <td>125586</td>\n",
              "      <td>256039</td>\n",
              "      <td>398764</td>\n",
              "      <td>24214</td>\n",
              "    </tr>\n",
              "    <tr>\n",
              "      <th>2</th>\n",
              "      <td>16.01.12</td>\n",
              "      <td>566221</td>\n",
              "      <td>153878</td>\n",
              "      <td>247588</td>\n",
              "      <td>435166</td>\n",
              "      <td>22318</td>\n",
              "    </tr>\n",
              "    <tr>\n",
              "      <th>3</th>\n",
              "      <td>23.01.12</td>\n",
              "      <td>558765</td>\n",
              "      <td>131291</td>\n",
              "      <td>222069</td>\n",
              "      <td>411530</td>\n",
              "      <td>22743</td>\n",
              "    </tr>\n",
              "    <tr>\n",
              "      <th>4</th>\n",
              "      <td>30.01.12</td>\n",
              "      <td>607327</td>\n",
              "      <td>136636</td>\n",
              "      <td>271674</td>\n",
              "      <td>418642</td>\n",
              "      <td>26039</td>\n",
              "    </tr>\n",
              "  </tbody>\n",
              "</table>\n",
              "</div>"
            ],
            "text/plain": [
              "      Woche      TS      TK      OG      FD     FF\n",
              "0  02.01.12  461700  102878  187887  312672  24474\n",
              "1  09.01.12  496850  125586  256039  398764  24214\n",
              "2  16.01.12  566221  153878  247588  435166  22318\n",
              "3  23.01.12  558765  131291  222069  411530  22743\n",
              "4  30.01.12  607327  136636  271674  418642  26039"
            ]
          },
          "metadata": {
            "tags": []
          }
        },
        {
          "output_type": "display_data",
          "data": {
            "text/plain": [
              "(417, 6)"
            ]
          },
          "metadata": {
            "tags": []
          }
        }
      ]
    },
    {
      "cell_type": "code",
      "metadata": {
        "colab": {
          "base_uri": "https://localhost:8080/",
          "height": 367
        },
        "id": "zoaQ-MVdMSYy",
        "outputId": "01cb1694-a90c-40de-b364-4db4027b0331"
      },
      "source": [
        "fig_size = plt.rcParams[\"figure.figsize\"]\n",
        "fig_size[0] = 15\n",
        "fig_size[1] = 5\n",
        "plt.rcParams[\"figure.figsize\"] = fig_size\n",
        "\n",
        "plt.title('Week vs OG')\n",
        "plt.ylabel('OG')\n",
        "plt.xlabel('Weeks')\n",
        "plt.grid(True)\n",
        "plt.autoscale(axis='x',tight=True)\n",
        "plt.plot(data['OG'])\n"
      ],
      "execution_count": null,
      "outputs": [
        {
          "output_type": "execute_result",
          "data": {
            "text/plain": [
              "[<matplotlib.lines.Line2D at 0x7fa9417ec9e8>]"
            ]
          },
          "metadata": {
            "tags": []
          },
          "execution_count": 9
        },
        {
          "output_type": "display_data",
          "data": {
            "image/png": "[encoded data removed]",
            "text/plain": [
              "<Figure size 1080x360 with 1 Axes>"
            ]
          },
          "metadata": {
            "tags": [],
            "needs_background": "light"
          }
        }
      ]
    },
    {
      "cell_type": "markdown",
      "metadata": {
        "id": "C8mEoFU3Nwx6"
      },
      "source": [
        "**Data Preprocessing**\n",
        "\n",
        "First change type of consumption goods to float\n"
      ]
    },
    {
      "cell_type": "code",
      "metadata": {
        "id": "imS1U9LMNu46"
      },
      "source": [
        "all_data = data['OG'].values.astype(float)"
      ],
      "execution_count": null,
      "outputs": []
    },
    {
      "cell_type": "markdown",
      "metadata": {
        "id": "uUoZ0Bf8OeSk"
      },
      "source": [
        "Divide data into train-, vaildation- and testset"
      ]
    },
    {
      "cell_type": "code",
      "metadata": {
        "colab": {
          "base_uri": "https://localhost:8080/",
          "height": 52
        },
        "id": "03UP39s5Ookb",
        "outputId": "e0767d55-cd55-4d79-9005-c50444c4886a"
      },
      "source": [
        "test_data_size = 52\n",
        "test_data = all_data[-test_data_size:]\n",
        "train_data = all_data[:-test_data_size]\n",
        "\n",
        "#test_data_size = 52\n",
        "#test_data = all_data[-test_data_size:]\n",
        "\n",
        "#all_train_data = all_data[:-test_data_size]\n",
        "\n",
        "#val_data_size = 104\n",
        "#val_data = all_train_data[-val_data_size:]\n",
        "#train_data = all_train_data[:-val_data_size]\n",
        "\n",
        "\n",
        "display(len(train_data))\n",
        "#display(len(val_data))\n",
        "display(len(test_data))\n"
      ],
      "execution_count": null,
      "outputs": [
        {
          "output_type": "display_data",
          "data": {
            "text/plain": [
              "365"
            ]
          },
          "metadata": {
            "tags": []
          }
        },
        {
          "output_type": "display_data",
          "data": {
            "text/plain": [
              "52"
            ]
          },
          "metadata": {
            "tags": []
          }
        }
      ]
    },
    {
      "cell_type": "markdown",
      "metadata": {
        "id": "ksVDaDTbRqjD"
      },
      "source": [
        "Normalize data and convert into tensors"
      ]
    },
    {
      "cell_type": "code",
      "metadata": {
        "id": "sQC1OuS9QcH0"
      },
      "source": [
        "from sklearn.preprocessing import MinMaxScaler\n",
        "\n",
        "scaler = MinMaxScaler(feature_range=(-1, 1))\n",
        "\n",
        "train_data_normalized = scaler.fit_transform(train_data .reshape(-1, 1))\n",
        "#val_data_normalized = scaler.fit_transform(val_data .reshape(-1, 1))\n",
        "\n",
        "train_data_normalized = torch.FloatTensor(train_data_normalized).view(-1)\n",
        "#val_data_normalized = torch.FloatTensor(val_data_normalized).view(-1)\n"
      ],
      "execution_count": null,
      "outputs": []
    },
    {
      "cell_type": "code",
      "metadata": {
        "colab": {
          "base_uri": "https://localhost:8080/"
        },
        "id": "cLF0wyxKQldJ",
        "outputId": "291f86a7-2265-4fdc-9ed7-3a032e2703af"
      },
      "source": [
        "print(train_data_normalized[:5])\n",
        "#print(val_data_normalized[:5])\n",
        "#print(len(val_data_normalized))"
      ],
      "execution_count": null,
      "outputs": [
        {
          "output_type": "stream",
          "text": [
            "tensor([-0.6670, -0.3349, -0.3761, -0.5004, -0.2587])\n",
            "52\n"
          ],
          "name": "stdout"
        }
      ]
    },
    {
      "cell_type": "code",
      "metadata": {
        "id": "yZOD29IFRXzg"
      },
      "source": [
        "train_window = 16"
      ],
      "execution_count": null,
      "outputs": []
    },
    {
      "cell_type": "markdown",
      "metadata": {
        "id": "245G-I9TUpFm"
      },
      "source": [
        "Adjust time series such that we can feed the data to the LSTM-model"
      ]
    },
    {
      "cell_type": "code",
      "metadata": {
        "id": "ptu2oSwASDSC"
      },
      "source": [
        "def create_inout_sequences(input_data, tw):\n",
        "    inout_seq = []\n",
        "    L = len(input_data)\n",
        "    for i in range(L-tw):\n",
        "        train_seq = input_data[i:i+tw]\n",
        "        train_label = input_data[i+tw:i+tw+1]\n",
        "        inout_seq.append((train_seq ,train_label))\n",
        "    return inout_seq"
      ],
      "execution_count": null,
      "outputs": []
    },
    {
      "cell_type": "code",
      "metadata": {
        "colab": {
          "base_uri": "https://localhost:8080/",
          "height": 159
        },
        "id": "5Yve7IIQUKCJ",
        "outputId": "822d6871-7b69-4e7d-8b69-3d66ee025348"
      },
      "source": [
        "train_inout_seq = create_inout_sequences(train_data_normalized, train_window)\n",
        "#val_inout_seq = create_inout_sequences(val_data_normalized, train_window)\n",
        "print(train_inout_seq[:5])\n",
        "display(len(train_inout_seq))"
      ],
      "execution_count": null,
      "outputs": [
        {
          "output_type": "stream",
          "text": [
            "[(tensor([-0.6670, -0.3349, -0.3761, -0.5004, -0.2587, -0.2780, -0.4854, -0.5053,\n",
            "        -0.4037, -0.4354, -0.3871, -0.3573, -0.2321, -0.2941, -0.3952, -0.3904]), tensor([-0.2732])), (tensor([-0.3349, -0.3761, -0.5004, -0.2587, -0.2780, -0.4854, -0.5053, -0.4037,\n",
            "        -0.4354, -0.3871, -0.3573, -0.2321, -0.2941, -0.3952, -0.3904, -0.2732]), tensor([-0.3997])), (tensor([-0.3761, -0.5004, -0.2587, -0.2780, -0.4854, -0.5053, -0.4037, -0.4354,\n",
            "        -0.3871, -0.3573, -0.2321, -0.2941, -0.3952, -0.3904, -0.2732, -0.3997]), tensor([-0.2984])), (tensor([-0.5004, -0.2587, -0.2780, -0.4854, -0.5053, -0.4037, -0.4354, -0.3871,\n",
            "        -0.3573, -0.2321, -0.2941, -0.3952, -0.3904, -0.2732, -0.3997, -0.2984]), tensor([-0.2982])), (tensor([-0.2587, -0.2780, -0.4854, -0.5053, -0.4037, -0.4354, -0.3871, -0.3573,\n",
            "        -0.2321, -0.2941, -0.3952, -0.3904, -0.2732, -0.3997, -0.2984, -0.2982]), tensor([-0.4960]))]\n"
          ],
          "name": "stdout"
        },
        {
          "output_type": "display_data",
          "data": {
            "text/plain": [
              "349"
            ]
          },
          "metadata": {
            "tags": []
          }
        }
      ]
    },
    {
      "cell_type": "code",
      "metadata": {
        "colab": {
          "base_uri": "https://localhost:8080/",
          "height": 593
        },
        "id": "V_5eep1C2FFP",
        "outputId": "da5fdcc0-3dd7-48f4-e8dd-20e82edd488c"
      },
      "source": [
        "#print(val_inout_seq[:5])\n",
        "#display(len(val_inout_seq))"
      ],
      "execution_count": null,
      "outputs": [
        {
          "output_type": "stream",
          "text": [
            "[(tensor([ 0.1182,  0.8785,  0.4648,  0.4468,  0.4294,  0.3756,  0.3884,  0.2137,\n",
            "         0.4545,  0.6153,  0.5176,  0.5512,  0.5300,  0.7171,  0.3982,  0.6177,\n",
            "         0.2246,  0.8822,  0.4840,  0.4657,  0.5022,  0.3119,  0.6646,  0.4956,\n",
            "         0.6400,  0.5077,  0.5616,  0.5240,  0.5266,  0.4084,  0.4582,  0.4397,\n",
            "         0.3332,  0.2944,  0.3796,  0.3167,  0.3438,  0.3762,  0.3771,  0.1968,\n",
            "         0.2177,  0.2192,  0.4931, -0.0112,  0.1804,  0.2365,  0.2883,  0.3386,\n",
            "         0.2746,  0.3312,  0.7323, -0.0164]), tensor([-0.0577])), (tensor([ 0.8785,  0.4648,  0.4468,  0.4294,  0.3756,  0.3884,  0.2137,  0.4545,\n",
            "         0.6153,  0.5176,  0.5512,  0.5300,  0.7171,  0.3982,  0.6177,  0.2246,\n",
            "         0.8822,  0.4840,  0.4657,  0.5022,  0.3119,  0.6646,  0.4956,  0.6400,\n",
            "         0.5077,  0.5616,  0.5240,  0.5266,  0.4084,  0.4582,  0.4397,  0.3332,\n",
            "         0.2944,  0.3796,  0.3167,  0.3438,  0.3762,  0.3771,  0.1968,  0.2177,\n",
            "         0.2192,  0.4931, -0.0112,  0.1804,  0.2365,  0.2883,  0.3386,  0.2746,\n",
            "         0.3312,  0.7323, -0.0164, -0.0577]), tensor([0.6303])), (tensor([ 0.4648,  0.4468,  0.4294,  0.3756,  0.3884,  0.2137,  0.4545,  0.6153,\n",
            "         0.5176,  0.5512,  0.5300,  0.7171,  0.3982,  0.6177,  0.2246,  0.8822,\n",
            "         0.4840,  0.4657,  0.5022,  0.3119,  0.6646,  0.4956,  0.6400,  0.5077,\n",
            "         0.5616,  0.5240,  0.5266,  0.4084,  0.4582,  0.4397,  0.3332,  0.2944,\n",
            "         0.3796,  0.3167,  0.3438,  0.3762,  0.3771,  0.1968,  0.2177,  0.2192,\n",
            "         0.4931, -0.0112,  0.1804,  0.2365,  0.2883,  0.3386,  0.2746,  0.3312,\n",
            "         0.7323, -0.0164, -0.0577,  0.6303]), tensor([0.4354])), (tensor([ 0.4468,  0.4294,  0.3756,  0.3884,  0.2137,  0.4545,  0.6153,  0.5176,\n",
            "         0.5512,  0.5300,  0.7171,  0.3982,  0.6177,  0.2246,  0.8822,  0.4840,\n",
            "         0.4657,  0.5022,  0.3119,  0.6646,  0.4956,  0.6400,  0.5077,  0.5616,\n",
            "         0.5240,  0.5266,  0.4084,  0.4582,  0.4397,  0.3332,  0.2944,  0.3796,\n",
            "         0.3167,  0.3438,  0.3762,  0.3771,  0.1968,  0.2177,  0.2192,  0.4931,\n",
            "        -0.0112,  0.1804,  0.2365,  0.2883,  0.3386,  0.2746,  0.3312,  0.7323,\n",
            "        -0.0164, -0.0577,  0.6303,  0.4354]), tensor([0.4146])), (tensor([ 0.4294,  0.3756,  0.3884,  0.2137,  0.4545,  0.6153,  0.5176,  0.5512,\n",
            "         0.5300,  0.7171,  0.3982,  0.6177,  0.2246,  0.8822,  0.4840,  0.4657,\n",
            "         0.5022,  0.3119,  0.6646,  0.4956,  0.6400,  0.5077,  0.5616,  0.5240,\n",
            "         0.5266,  0.4084,  0.4582,  0.4397,  0.3332,  0.2944,  0.3796,  0.3167,\n",
            "         0.3438,  0.3762,  0.3771,  0.1968,  0.2177,  0.2192,  0.4931, -0.0112,\n",
            "         0.1804,  0.2365,  0.2883,  0.3386,  0.2746,  0.3312,  0.7323, -0.0164,\n",
            "        -0.0577,  0.6303,  0.4354,  0.4146]), tensor([0.4722]))]\n"
          ],
          "name": "stdout"
        },
        {
          "output_type": "display_data",
          "data": {
            "text/plain": [
              "52"
            ]
          },
          "metadata": {
            "tags": []
          }
        }
      ]
    },
    {
      "cell_type": "markdown",
      "metadata": {
        "id": "0lyJvAQ5VA2P"
      },
      "source": [
        "**Creating LSTM model**"
      ]
    },
    {
      "cell_type": "code",
      "metadata": {
        "id": "-TyqtBE5VDkd"
      },
      "source": [
        "class LSTM(nn.Module):\n",
        "    def __init__(self, input_size=1, hidden_layer_size=100, output_size=1):\n",
        "        super().__init__()\n",
        "        \n",
        "        self.hidden_layer_size = hidden_layer_size\n",
        "\n",
        "        self.lstm = nn.LSTM(input_size, hidden_layer_size)\n",
        "\n",
        "        self.linear = nn.Linear(hidden_layer_size, output_size)\n",
        "\n",
        "        self.hidden_cell = (torch.zeros(1,1,self.hidden_layer_size),\n",
        "                            torch.zeros(1,1,self.hidden_layer_size))\n",
        "\n",
        "    def forward(self, input_seq):\n",
        "        lstm_out, self.hidden_cell = self.lstm(input_seq.view(len(input_seq) ,1, -1), self.hidden_cell)\n",
        "        predictions = self.linear(lstm_out.view(len(input_seq), -1))\n",
        "        return predictions[-1]\n",
        "\n"
      ],
      "execution_count": null,
      "outputs": []
    },
    {
      "cell_type": "markdown",
      "metadata": {
        "id": "w3cs8ukKV29k"
      },
      "source": [
        "**Function to train the model**"
      ]
    },
    {
      "cell_type": "code",
      "metadata": {
        "id": "WxDbc0-cV6Ei"
      },
      "source": [
        "def train (inout_seq, optimizer,model,loss_fn, master_bar ):\n",
        "\n",
        "    epoch_loss = []\n",
        "  \n",
        "    for seq, labels in fastprogress.progress_bar(inout_seq, parent=master_bar):\n",
        "        optimizer.zero_grad()\n",
        "        model.hidden_cell = (torch.zeros(1, 1, model.hidden_layer_size),\n",
        "                        torch.zeros(1, 1, model.hidden_layer_size))\n",
        "\n",
        "        y_pred = model(seq)\n",
        "\n",
        "        single_loss = loss_fn(y_pred, labels)\n",
        "        single_loss.backward()\n",
        "        optimizer.step()\n",
        "\n",
        "        epoch_loss.append(single_loss.item())\n",
        "\n",
        "    return np.mean(epoch_loss)"
      ],
      "execution_count": null,
      "outputs": []
    },
    {
      "cell_type": "markdown",
      "metadata": {
        "id": "uswJyV6WqGPh"
      },
      "source": [
        "**Function to validate the model**"
      ]
    },
    {
      "cell_type": "code",
      "metadata": {
        "id": "e5_aSc7TjqOB"
      },
      "source": [
        "def validate(inout_seq, model, loss_fn,master_bar):\n",
        "    \"\"\"Compute loss on validation set.\"\"\"\n",
        "\n",
        "  \n",
        "    epoch_loss = []   \n",
        "\n",
        "    model.eval()\n",
        "    with torch.no_grad():\n",
        "        for seq, labels in fastprogress.progress_bar(inout_seq, parent=master_bar):\n",
        "            # make a prediction on validation set\n",
        "            y_pred = model(seq)\n",
        "            \n",
        "            # Compute loss\n",
        "            single_loss = loss_fn(y_pred, labels)\n",
        "            \n",
        "            # For plotting the train loss, save it for each sample\n",
        "            epoch_loss.append(single_loss.item())\n",
        "\n",
        "            \n",
        "    # Return the mean loss, the accuracy and the confusion matrix\n",
        "    return np.mean(epoch_loss)\n"
      ],
      "execution_count": null,
      "outputs": []
    },
    {
      "cell_type": "markdown",
      "metadata": {
        "id": "6BO8yN1Iqefc"
      },
      "source": [
        "**Function to run training**"
      ]
    },
    {
      "cell_type": "code",
      "metadata": {
        "id": "0XNQE2QTn0_Z"
      },
      "source": [
        "def run_training(model, optimizer, loss_fn, num_epochs, \n",
        "                train_data, val_data, patience = 1,verbose=True, early_stopper = True):\n",
        "    \"\"\" Run model training \"\"\"\n",
        "    \n",
        "    start_time = time.time()\n",
        "    master_bar = fastprogress.master_bar(range(num_epochs))\n",
        "    train_losses, val_losses = [],[]\n",
        "\n",
        "\n",
        "    for epoch in master_bar:\n",
        "        # Train the model\n",
        "        epoch_train_loss = train(train_data, optimizer, model,loss_fn, master_bar)\n",
        "        # Validate the model\n",
        "        epoch_val_loss = validate(val_data, model, loss_fn, master_bar)\n",
        "        # Save loss for plotting\n",
        "        train_losses.append(epoch_train_loss)\n",
        "        val_losses.append(epoch_val_loss)\n",
        "        \n",
        "        if verbose:\n",
        "            master_bar.write(f'Train loss: {epoch_train_loss:.3f}, val loss: {epoch_val_loss:.3f}')\n",
        "        \n",
        "        if early_stopper:\n",
        "           \n",
        "           early_stopper.update(epoch_val_loss, model)\n",
        "           if early_stopper.early_stop:\n",
        "             model = early_stopper.load_checkpoint(model)\n",
        "             break\n",
        "         \n",
        "    time_elapsed = np.round(time.time() - start_time, 0).astype(int)\n",
        "    print(f'Finished training after {time_elapsed} seconds.')\n",
        "    return train_losses, val_losses\n"
      ],
      "execution_count": null,
      "outputs": []
    },
    {
      "cell_type": "markdown",
      "metadata": {
        "id": "rGteZEN2qVWM"
      },
      "source": [
        "**Function to plot learning curves**"
      ]
    },
    {
      "cell_type": "code",
      "metadata": {
        "id": "RvvE7hNbplj2"
      },
      "source": [
        "def plot(title, label, train_results, val_results, yscale='linear', extra_pt=None, extra_pt_label = None):\n",
        "    \n",
        "    \"\"\"Plot learning curves\"\"\"\n",
        "    \n",
        "    epoch_array = np.arange(len(train_results)) + 1\n",
        "    train_label, val_label = \"Training \"+label.lower(), \"Validation \"+label.lower()\n",
        "    \n",
        "    sns.set(style='ticks')\n",
        "\n",
        "    plt.plot(epoch_array, train_results, epoch_array, val_results, linestyle='dashed', marker='o')\n",
        "    legend = ['Train results', 'Validation results']\n",
        "        \n",
        "    if extra_pt:\n",
        "        plt.plot(extra_pt[0],extra_pt[1],marker = '*', color = 'k')\n",
        "        plt.annotate(extra_pt_label,extra_pt)\n",
        "\n",
        "    plt.legend(legend)\n",
        "    plt.xlabel('Epoch')\n",
        "    plt.ylabel(label)\n",
        "    plt.yscale(yscale)\n",
        "    plt.title(title)\n",
        "    \n",
        "    sns.despine(trim=True, offset=5)\n",
        "    plt.title(title, fontsize=15)\n",
        "\n",
        "    plt.show()"
      ],
      "execution_count": null,
      "outputs": []
    },
    {
      "cell_type": "markdown",
      "metadata": {
        "id": "0CG3MhCJmiAc"
      },
      "source": [
        "**Early Stopping**"
      ]
    },
    {
      "cell_type": "code",
      "metadata": {
        "id": "-lwWTYecopJz"
      },
      "source": [
        "class EarlyStopper:\n",
        "    \"\"\"Early stops the training if validation accuracy does not increase after a\n",
        "    given patience.\n",
        "    \"\"\"\n",
        "    def __init__(self, verbose=False, path='checkpoint.pt', patience=3):\n",
        "        \"\"\"Initialization.\n",
        "\n",
        "        Args:\n",
        "            verbose (bool, optional): Print additional information. Defaults to False.\n",
        "            path (str, optional): Path where checkpoints should be saved. \n",
        "                Defaults to 'checkpoint.pt'.\n",
        "            patience (int, optional): Number of epochs to wait for increasing\n",
        "                accuracy. If accyracy does not increase, stop training early. \n",
        "                Defaults to 1.\n",
        "        \"\"\"\n",
        "        self.patience = patience\n",
        "        self.verbose = verbose\n",
        "        self.counter = 0\n",
        "        self.best_loss = None\n",
        "        self.__early_stop = False\n",
        "        self.val_loss_min = np.Inf\n",
        "        self.path = path\n",
        "        \n",
        "        \n",
        "    @property\n",
        "    def early_stop(self):\n",
        "        \"\"\"True if early stopping criterion is reached.\n",
        "\n",
        "        Returns:\n",
        "            [bool]: True if early stopping criterion is reached.\n",
        "        \"\"\"\n",
        "        ####################\n",
        "\n",
        "        if self.patience == self.counter:\n",
        "          return True\n",
        "        else:\n",
        "          return(False)\n",
        "\n",
        "        ####################\n",
        "\n",
        "        \n",
        "        \n",
        "    def update(self, val_loss, model):\n",
        "        \"\"\"Call after one epoch of model training to update early stopper object.\n",
        "\n",
        "        Args:\n",
        "            val_acc (float): Accuracy on validation set\n",
        "            model (nn.Module): torch model that is trained\n",
        "        \"\"\"\n",
        "        ####################\n",
        "        if val_loss < self.val_loss_min:\n",
        "          self.save_checkpoint(model,val_loss)\n",
        "          self.counter = 0\n",
        "        else:\n",
        "          self.counter = self.counter + 1\n",
        "        return\n",
        "        ####################\n",
        "\n",
        "\n",
        "            \n",
        "    def save_checkpoint(self, model, val_loss):\n",
        "        \"\"\"Save model checkpoint.\n",
        "\n",
        "        Args:\n",
        "            model (nn.Module): Model of which parameters should be saved.\n",
        "        \"\"\"\n",
        "        if self.verbose:\n",
        "            print(f'Validation loss decreased ({self.val_loss_min:.4f} --> {val_loss:.4f}).  Saving model ...')\n",
        "        ####################\n",
        "\n",
        "        self.val_loss_min = val_loss\n",
        "        torch.save({\n",
        "                  'model_state_dict': model.state_dict(),\n",
        "                   }, self.path)\n",
        "        return\n",
        "        ####################\n",
        "\n",
        " \n",
        "        \n",
        "    def load_checkpoint(self, model):\n",
        "        \"\"\"Load model from checkpoint.\n",
        "\n",
        "        Args:\n",
        "            model (nn.Module): Model that should be reset to parameters loaded\n",
        "                from checkpoint.\n",
        "\n",
        "        Returns:\n",
        "            nn.Module: Model with parameters from checkpoint\n",
        "        \"\"\"\n",
        "        if self.verbose:\n",
        "            print(f'Loading model from last checkpoint with validation loss {self.val_loss_min:.4f}')\n",
        "        ####################\n",
        "\n",
        "        checkpoint = torch.load(self.path)\n",
        "        model.load_state_dict(checkpoint['model_state_dict'])\n",
        "\n",
        "        \n",
        "        return model"
      ],
      "execution_count": null,
      "outputs": []
    },
    {
      "cell_type": "code",
      "metadata": {
        "colab": {
          "base_uri": "https://localhost:8080/",
          "height": 863
        },
        "id": "hb8tRrvVtj-d",
        "outputId": "1b72fded-f1be-4f51-ea60-7b176aca4cbd"
      },
      "source": [
        "# Training the model\n",
        "\n",
        "model = LSTM( input_size=1, hidden_layer_size=100, output_size=1)\n",
        "loss_function = nn.MSELoss()\n",
        "lr = 0.001\n",
        "optimizer = torch.optim.Adam(model.parameters(), lr=lr)\n",
        "num_epochs = 100\n",
        "stopper = EarlyStopper(patience = 3)\n",
        "\n",
        "train_losses, val_losses = run_training(model, optimizer, loss_function, num_epochs, \n",
        "                train_inout_seq, val_inout_seq,verbose=True, early_stopper = stopper)\n",
        "\n",
        "stop_point_loss = stopper.val_loss_min\n",
        "stop_values = (val_losses.index(stop_point_loss)+1, stop_point_loss)\n",
        "stop_values\n",
        "\n",
        "plot(\"Loss vs. Epoch\", \"Loss\", train_losses, val_losses, extra_pt = stop_values,\n",
        "   extra_pt_label = 'stopping point',yscale='linear')\n"
      ],
      "execution_count": null,
      "outputs": [
        {
          "output_type": "display_data",
          "data": {
            "text/html": [
              "\n",
              "    <div>\n",
              "        <style>\n",
              "            /* Turns off some styling */\n",
              "            progress {\n",
              "                /* gets rid of default border in Firefox and Opera. */\n",
              "                border: none;\n",
              "                /* Needs to be in here for Safari polyfill so background images work as expected. */\n",
              "                background-size: auto;\n",
              "            }\n",
              "            .progress-bar-interrupted, .progress-bar-interrupted::-webkit-progress-bar {\n",
              "                background: #F44336;\n",
              "            }\n",
              "        </style>\n",
              "      <progress value='19' class='' max='100' style='width:300px; height:20px; vertical-align: middle;'></progress>\n",
              "      19.00% [19/100 00:58<04:10]\n",
              "    </div>\n",
              "    \n",
              "Train loss: 0.066, val loss: 0.198<p>Train loss: 0.061, val loss: 0.184<p>Train loss: 0.055, val loss: 0.158<p>Train loss: 0.051, val loss: 0.131<p>Train loss: 0.047, val loss: 0.113<p>Train loss: 0.045, val loss: 0.103<p>Train loss: 0.044, val loss: 0.098<p>Train loss: 0.043, val loss: 0.097<p>Train loss: 0.042, val loss: 0.095<p>Train loss: 0.041, val loss: 0.096<p>Train loss: 0.041, val loss: 0.095<p>Train loss: 0.040, val loss: 0.096<p>Train loss: 0.040, val loss: 0.095<p>Train loss: 0.039, val loss: 0.095<p>Train loss: 0.039, val loss: 0.095<p>Train loss: 0.039, val loss: 0.094<p>Train loss: 0.038, val loss: 0.094<p>Train loss: 0.038, val loss: 0.094<p>Train loss: 0.037, val loss: 0.095<p>\n",
              "\n",
              "    <div>\n",
              "        <style>\n",
              "            /* Turns off some styling */\n",
              "            progress {\n",
              "                /* gets rid of default border in Firefox and Opera. */\n",
              "                border: none;\n",
              "                /* Needs to be in here for Safari polyfill so background images work as expected. */\n",
              "                background-size: auto;\n",
              "            }\n",
              "            .progress-bar-interrupted, .progress-bar-interrupted::-webkit-progress-bar {\n",
              "                background: #F44336;\n",
              "            }\n",
              "        </style>\n",
              "      <progress value='52' class='' max='52' style='width:300px; height:20px; vertical-align: middle;'></progress>\n",
              "      100.00% [52/52 00:00<00:00]\n",
              "    </div>\n",
              "    "
            ],
            "text/plain": [
              "<IPython.core.display.HTML object>"
            ]
          },
          "metadata": {
            "tags": []
          }
        },
        {
          "output_type": "stream",
          "text": [
            "Finished training after 62 seconds.\n"
          ],
          "name": "stdout"
        },
        {
          "output_type": "display_data",
          "data": {
            "image/png": "[encoded data removed]",
            "text/plain": [
              "<Figure size 1080x360 with 1 Axes>"
            ]
          },
          "metadata": {
            "tags": []
          }
        }
      ]
    },
    {
      "cell_type": "code",
      "metadata": {
        "id": "gLYoRB36W1Tc"
      },
      "source": [
        "fut_pred = 52\n",
        "\n",
        "test_inputs = val_data_normalized[-train_window:].tolist()\n"
      ],
      "execution_count": null,
      "outputs": []
    },
    {
      "cell_type": "code",
      "metadata": {
        "id": "QEXq6IWsW3IV"
      },
      "source": [
        "model.eval()\n",
        "\n",
        "for i in range(fut_pred):\n",
        "    seq = torch.FloatTensor(test_inputs[-train_window:])\n",
        "    with torch.no_grad():\n",
        "        model.hidden = (torch.zeros(1, 1, model.hidden_layer_size),\n",
        "                        torch.zeros(1, 1, model.hidden_layer_size))\n",
        "        test_inputs.append(model(seq).item())\n"
      ],
      "execution_count": null,
      "outputs": []
    },
    {
      "cell_type": "code",
      "metadata": {
        "colab": {
          "base_uri": "https://localhost:8080/"
        },
        "id": "3u9ku4iKW6CB",
        "outputId": "696558ad-754c-45d5-8c39-cc9b059a3428"
      },
      "source": [
        "test_inputs[fut_pred:]"
      ],
      "execution_count": null,
      "outputs": [
        {
          "output_type": "execute_result",
          "data": {
            "text/plain": [
              "[-0.4482276439666748,\n",
              " -0.014344420284032822,\n",
              " -0.0017931722104549408,\n",
              " -0.023322694003582,\n",
              " -0.051324859261512756,\n",
              " -0.06222984939813614,\n",
              " -0.056504376232624054,\n",
              " -0.044966235756874084,\n",
              " -0.03516552597284317,\n",
              " -0.028619006276130676,\n",
              " -0.02404101938009262,\n",
              " -0.020118914544582367,\n",
              " -0.016375817358493805,\n",
              " -0.012900225818157196,\n",
              " -0.00988074392080307,\n",
              " -0.007382102310657501,\n",
              " -0.005350284278392792,\n",
              " -0.003691837191581726,\n",
              " -0.0023276060819625854,\n",
              " -0.0012043006718158722,\n",
              " -0.00028499774634838104,\n",
              " 0.0004610121250152588,\n",
              " 0.0010623503476381302,\n",
              " 0.001545211300253868,\n",
              " 0.0019321423023939133,\n",
              " 0.0022416338324546814,\n",
              " 0.0024886131286621094,\n",
              " 0.0026851538568735123,\n",
              " 0.0028411243110895157,\n",
              " 0.002964586019515991,\n",
              " 0.003062119707465172,\n",
              " 0.003139019012451172,\n",
              " 0.003199540078639984,\n",
              " 0.0032470766454935074,\n",
              " 0.0032843612134456635,\n",
              " 0.003313535824418068,\n",
              " 0.003336334601044655,\n",
              " 0.0033541209995746613,\n",
              " 0.0033679846674203873,\n",
              " 0.003378773108124733,\n",
              " 0.0033871550112962723,\n",
              " 0.003393653780221939,\n",
              " 0.003398694097995758,\n",
              " 0.0034025888890028,\n",
              " 0.003405597060918808,\n",
              " 0.003407919779419899,\n",
              " 0.003409711644053459,\n",
              " 0.003411088138818741,\n",
              " 0.0034121479839086533,\n",
              " 0.0034129582345485687,\n",
              " 0.003413580358028412,\n",
              " 0.003414049744606018]"
            ]
          },
          "metadata": {
            "tags": []
          },
          "execution_count": 27
        }
      ]
    },
    {
      "cell_type": "code",
      "metadata": {
        "colab": {
          "base_uri": "https://localhost:8080/"
        },
        "id": "zCu0V_Z5W9vo",
        "outputId": "cb1f15fc-3ef7-48c9-e771-7c3178293289"
      },
      "source": [
        "actual_predictions = scaler.inverse_transform(np.array(test_inputs[train_window:] ).reshape(-1, 1))\n",
        "print(actual_predictions)"
      ],
      "execution_count": null,
      "outputs": [
        {
          "output_type": "stream",
          "text": [
            "[[217684.81636608]\n",
            " [294845.52415774]\n",
            " [297077.60673702]\n",
            " [293248.85040514]\n",
            " [288269.01534108]\n",
            " [286329.69915766]\n",
            " [287347.90299173]\n",
            " [289399.81704859]\n",
            " [291142.7507748 ]\n",
            " [292306.96747137]\n",
            " [293121.10521599]\n",
            " [293818.60253468]\n",
            " [294484.26558051]\n",
            " [295102.35609106]\n",
            " [295639.33320298]\n",
            " [296083.68538033]\n",
            " [296445.01881964]\n",
            " [296739.95290344]\n",
            " [296982.5643534 ]\n",
            " [297182.33017928]\n",
            " [297345.81671328]\n",
            " [297478.48524378]\n",
            " [297585.42572995]\n",
            " [297671.29651461]\n",
            " [297740.1073567 ]\n",
            " [297795.14655668]\n",
            " [297839.06873727]\n",
            " [297874.02104902]\n",
            " [297901.75844467]\n",
            " [297923.71456625]\n",
            " [297941.05971348]\n",
            " [297954.73529363]\n",
            " [297965.49820874]\n",
            " [297973.95199294]\n",
            " [297980.5825873 ]\n",
            " [297985.77092717]\n",
            " [297989.82540461]\n",
            " [297992.98849326]\n",
            " [297995.45397329]\n",
            " [297997.37256262]\n",
            " [297998.86317932]\n",
            " [298000.01890414]\n",
            " [298000.91526165]\n",
            " [298001.60790155]\n",
            " [298002.14286732]\n",
            " [298002.55593377]\n",
            " [298002.8745945 ]\n",
            " [298003.11938689]\n",
            " [298003.30786709]\n",
            " [298003.45196004]\n",
            " [298003.56259692]\n",
            " [298003.64607146]]\n"
          ],
          "name": "stdout"
        }
      ]
    },
    {
      "cell_type": "code",
      "metadata": {
        "colab": {
          "base_uri": "https://localhost:8080/"
        },
        "id": "AUs1JapGXCdD",
        "outputId": "5b964f55-90e2-4230-a822-9773f44e3c5d"
      },
      "source": [
        "x = np.arange(366, 418, 1)\n",
        "print(x)\n"
      ],
      "execution_count": null,
      "outputs": [
        {
          "output_type": "stream",
          "text": [
            "[366 367 368 369 370 371 372 373 374 375 376 377 378 379 380 381 382 383\n",
            " 384 385 386 387 388 389 390 391 392 393 394 395 396 397 398 399 400 401\n",
            " 402 403 404 405 406 407 408 409 410 411 412 413 414 415 416 417]\n"
          ],
          "name": "stdout"
        }
      ]
    },
    {
      "cell_type": "code",
      "metadata": {
        "colab": {
          "base_uri": "https://localhost:8080/",
          "height": 338
        },
        "id": "e086zaNwXI86",
        "outputId": "009f986d-924a-4a2e-bfe3-f0ef6e1f04c9"
      },
      "source": [
        "plt.title('Week vs OG')\n",
        "plt.ylabel('OG')\n",
        "plt.grid(True)\n",
        "plt.autoscale(axis='x', tight=True)\n",
        "plt.plot(data['OG'])\n",
        "plt.plot(x,actual_predictions)\n",
        "plt.show()\n"
      ],
      "execution_count": null,
      "outputs": [
        {
          "output_type": "display_data",
          "data": {
            "image/png": "[encoded data removed]",
            "text/plain": [
              "<Figure size 1080x360 with 1 Axes>"
            ]
          },
          "metadata": {
            "tags": []
          }
        }
      ]
    },
    {
      "cell_type": "code",
      "metadata": {
        "colab": {
          "base_uri": "https://localhost:8080/",
          "height": 338
        },
        "id": "Y_MXArJaXNi8",
        "outputId": "8c4cb3f8-9ba2-4fdd-a76f-7df1749b2fff"
      },
      "source": [
        "plt.title('Weeks vs OG')\n",
        "plt.ylabel('OG')\n",
        "plt.grid(True)\n",
        "plt.autoscale(axis='x', tight=True)\n",
        "\n",
        "plt.plot(data['OG'][-52:417])\n",
        "plt.plot(x,actual_predictions)\n",
        "plt.show()"
      ],
      "execution_count": null,
      "outputs": [
        {
          "output_type": "display_data",
          "data": {
            "image/png": "[encoded data removed]",
            "text/plain": [
              "<Figure size 1080x360 with 1 Axes>"
            ]
          },
          "metadata": {
            "tags": []
          }
        }
      ]
    }
  ]
}